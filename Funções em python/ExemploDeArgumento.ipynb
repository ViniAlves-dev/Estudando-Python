{
 "cells": [
  {
   "cell_type": "markdown",
   "metadata": {},
   "source": [
    "Cada produto tem um código. O tipo de produto é dado pelas 3 primeiras letras do código.\n",
    "\n",
    "Ex:\n",
    "Vinho -> BEB12302\n",
    "Cerveja -> BEB12043\n",
    "Vodka -> BEB34501\n",
    "\n",
    "Guaraná -> BSA11104\n",
    "Coca -> BSA54301\n",
    "Sprite -> BSA34012\n",
    "Água -> BSA09871\n",
    "\n",
    "Repare que bebidas não alcóolicas começam com BSA e bebidas alcoolicas começam com BEB.\n",
    "\n",
    "Crie um programa que analise uma lista de produtos e envie instruções para a equipe de estoque dizendo quais produtos devem ser enviados para a área de bebidas alcóolicas."
   ]
  },
  {
   "cell_type": "code",
   "execution_count": 1,
   "metadata": {},
   "outputs": [],
   "source": [
    "produtos = ['beb46275','TFA23962','TFA64715','TFA69555','TFA56743','BSA45510','TFA44968','CAR75448','CAR23596','CAR13490','BEB21365','BEB31623','BSA62419','BEB73344','TFA20079','BEB80694','BSA11769','BEB19495','TFA14792','TFA78043','BSA33484','BEB97471','BEB62362','TFA27311','TFA17715','BEB85146','BEB48898','BEB79496','CAR38417','TFA19947','TFA58799','CAR94811','BSA59251','BEB15385','BEB24213','BEB56262','BSA96915','CAR53454','BEB75073']\n"
   ]
  },
  {
   "cell_type": "code",
   "execution_count": 7,
   "metadata": {},
   "outputs": [],
   "source": [
    "def eh_da_categoria(bebida, cod_categoria):\n",
    "    bebida = bebida.upper()\n",
    "    if cod_categoria in bebida:\n",
    "        return True\n",
    "    else:\n",
    "        return False\n"
   ]
  },
  {
   "cell_type": "code",
   "execution_count": 9,
   "metadata": {},
   "outputs": [
    {
     "name": "stdout",
     "output_type": "stream",
     "text": [
      "Enviar beb46275 para o setor de bebidas alcoólicas\n",
      "--------------------------------------------------\n",
      "Enviar BSA45510 para o setor de bebidas não alcoólicas\n",
      "--------------------------------------------------\n",
      "Enviar BEB21365 para o setor de bebidas alcoólicas\n",
      "--------------------------------------------------\n",
      "Enviar BEB31623 para o setor de bebidas alcoólicas\n",
      "--------------------------------------------------\n",
      "Enviar BSA62419 para o setor de bebidas não alcoólicas\n",
      "--------------------------------------------------\n",
      "Enviar BEB73344 para o setor de bebidas alcoólicas\n",
      "--------------------------------------------------\n",
      "Enviar BEB80694 para o setor de bebidas alcoólicas\n",
      "--------------------------------------------------\n",
      "Enviar BSA11769 para o setor de bebidas não alcoólicas\n",
      "--------------------------------------------------\n",
      "Enviar BEB19495 para o setor de bebidas alcoólicas\n",
      "--------------------------------------------------\n",
      "Enviar BSA33484 para o setor de bebidas não alcoólicas\n",
      "--------------------------------------------------\n",
      "Enviar BEB97471 para o setor de bebidas alcoólicas\n",
      "--------------------------------------------------\n",
      "Enviar BEB62362 para o setor de bebidas alcoólicas\n",
      "--------------------------------------------------\n",
      "Enviar BEB85146 para o setor de bebidas alcoólicas\n",
      "--------------------------------------------------\n",
      "Enviar BEB48898 para o setor de bebidas alcoólicas\n",
      "--------------------------------------------------\n",
      "Enviar BEB79496 para o setor de bebidas alcoólicas\n",
      "--------------------------------------------------\n",
      "Enviar BSA59251 para o setor de bebidas não alcoólicas\n",
      "--------------------------------------------------\n",
      "Enviar BEB15385 para o setor de bebidas alcoólicas\n",
      "--------------------------------------------------\n",
      "Enviar BEB24213 para o setor de bebidas alcoólicas\n",
      "--------------------------------------------------\n",
      "Enviar BEB56262 para o setor de bebidas alcoólicas\n",
      "--------------------------------------------------\n",
      "Enviar BSA96915 para o setor de bebidas não alcoólicas\n",
      "--------------------------------------------------\n",
      "Enviar BEB75073 para o setor de bebidas alcoólicas\n",
      "--------------------------------------------------\n"
     ]
    }
   ],
   "source": [
    "for produto in produtos:\n",
    "    if eh_da_categoria(produto, 'BEB'):\n",
    "        print(f'Enviar {produto} para o setor de bebidas alcoólicas')\n",
    "        print('-' * 50)\n",
    "    elif eh_da_categoria(produto, 'BSA'):\n",
    "        print(f'Enviar {produto} para o setor de bebidas não alcoólicas')\n",
    "        print('-' * 50)\n",
    "\n"
   ]
  }
 ],
 "metadata": {
  "kernelspec": {
   "display_name": "base",
   "language": "python",
   "name": "python3"
  },
  "language_info": {
   "codemirror_mode": {
    "name": "ipython",
    "version": 3
   },
   "file_extension": ".py",
   "mimetype": "text/x-python",
   "name": "python",
   "nbconvert_exporter": "python",
   "pygments_lexer": "ipython3",
   "version": "3.12.7"
  }
 },
 "nbformat": 4,
 "nbformat_minor": 2
}
